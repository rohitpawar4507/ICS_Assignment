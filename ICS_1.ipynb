{
  "nbformat": 4,
  "nbformat_minor": 0,
  "metadata": {
    "colab": {
      "name": "ICS_1.ipynb",
      "provenance": [],
      "collapsed_sections": [],
      "authorship_tag": "ABX9TyNYi0igT57XhSYRw4LedFRl",
      "include_colab_link": true
    },
    "kernelspec": {
      "name": "python3",
      "display_name": "Python 3"
    },
    "language_info": {
      "name": "python"
    }
  },
  "cells": [
    {
      "cell_type": "markdown",
      "metadata": {
        "id": "view-in-github",
        "colab_type": "text"
      },
      "source": [
        "<a href=\"https://colab.research.google.com/github/rohitpawar4507/ICS_Assignment/blob/main/ICS_1.ipynb\" target=\"_parent\"><img src=\"https://colab.research.google.com/assets/colab-badge.svg\" alt=\"Open In Colab\"/></a>"
      ]
    },
    {
      "cell_type": "code",
      "source": [
        "# Assignment 1\n",
        "# Implementation of S-DES (Data Encryption Standard).\n",
        "# @ Rohit Pawar"
      ],
      "metadata": {
        "id": "F4qKutI4_JPo"
      },
      "execution_count": 2,
      "outputs": []
    },
    {
      "cell_type": "code",
      "execution_count": 1,
      "metadata": {
        "colab": {
          "base_uri": "https://localhost:8080/"
        },
        "id": "ZJGcWmRr9p4G",
        "outputId": "624689e5-5211-4a14-a985-6415331651c4"
      },
      "outputs": [
        {
          "output_type": "stream",
          "name": "stdout",
          "text": [
            "Enter plaintext: Welcome to Cyber\n",
            "Enter Key: 3451\n",
            "Cipher Text: ¡IHÉäAIq%äqá)èI\n",
            "Decipher Text: Welcome to Cyber\n"
          ]
        }
      ],
      "source": [
        "# Permutation boxes and S-boxes\n",
        "InputPerm = [2, 6, 3, 1, 4, 8, 5, 7]\n",
        "FinalPerm = [4, 1, 3, 5, 7, 2, 8, 6]\n",
        "\n",
        "EPtable = [4, 1, 2, 3, 2, 3, 4, 1]\n",
        "S0 = [[1, 0, 3, 2], [3, 2, 1, 0], [0, 2, 1, 3], [3, 1, 3, 2]]\n",
        "S1 = [[0, 1, 2, 3], [2, 0, 1, 3], [3, 0, 1, 0], [2, 1, 0, 3]]\n",
        "P4table = [2, 4, 3, 1]\n",
        "\n",
        "P10Table = [3, 5, 2, 7, 4, 10, 1, 9, 8, 6]\n",
        "P8Table = [6, 3, 7, 4, 8, 5, 10, 9]\n",
        "\n",
        "\n",
        "def perm(B, table): # applies different permutations on text 'B'\n",
        "    output = 0\n",
        "    for i, e in enumerate(table):\n",
        "        if i >= e:\n",
        "            output |= (B & (128 >> (e - 1))) >> (i - (e - 1))\n",
        "        else:\n",
        "            output |= (B & (128 >> (e - 1))) << ((e - 1) - i)\n",
        "    return output\n",
        "\n",
        "\n",
        "def keyGen(key): # generates 2 sub-keys for 2 rounds\n",
        "    def leftShift(pk):\n",
        "        ls, rs = pk >> 5, pk & 0b0000011111\n",
        "        ls = ((ls >> 4) & 1) | (ls << 1) & 0b0000011110\n",
        "        rs = ((rs >> 4) & 1) | (rs << 1) & 0b0000011110\n",
        "        return ((ls << 5) & 0b1111100000) | rs\n",
        "\n",
        "    k = perm(key, P10Table)\n",
        "    shiftOne = leftShift(k)\n",
        "    shiftTwo = leftShift(leftShift(shiftOne))\n",
        "    subkey1 = perm(shiftOne, P8Table)\n",
        "    subkey2 = perm(shiftTwo, P8Table)\n",
        "    return subkey1, subkey2\n",
        "\n",
        "\n",
        "def InitialPermutation(B): # applies IP\n",
        "    return perm(B, InputPerm)\n",
        "\n",
        "\n",
        "def swapper(B): # swaps 2 nibbles in a byte\n",
        "    return (B << 4 | B >> 4) & 0xff\n",
        "\n",
        "\n",
        "def mixer(key, B): # applies round function (Feistel function)\n",
        "    def f(skey, rNib):\n",
        "        temp = skey ^ perm(swapper(rNib), EPtable)\n",
        "        l, r = temp & 0xf0, temp & 0x0f\n",
        "        lr, lc, rr, rc = ((l >> 2) & 0x2) | (l & 0x1), (l >> 1) & 0x3, ((r >> 2) & 0x2) | (r & 0x1), (r >> 1) & 0x3\n",
        "        sboxout = swapper((S0[lr][lc] << 2) + S1[rr][rc])\n",
        "        return perm(sboxout, P4table)\n",
        "\n",
        "    lNib, rNib = B & 0xf0, B & 0x0f\n",
        "    return lNib ^ f(key, rNib) | rNib\n",
        "\n",
        "\n",
        "def FinalPermutation(B): # applies FP (inverse of IP)\n",
        "    return perm(B, FinalPerm)\n",
        "\n",
        "\n",
        "def encrypt(text, key): # applies encryption algorithm\n",
        "    t = mixer(keyGen(key)[0], InitialPermutation(text))\n",
        "    return FinalPermutation(mixer(keyGen(key)[1], swapper(t)))\n",
        "\n",
        "\n",
        "def decrypt(cipher, key): # applies decryption algorithm\n",
        "    t = mixer(keyGen(key)[1], InitialPermutation(cipher))\n",
        "    return FinalPermutation(mixer(keyGen(key)[0], swapper(t)))\n",
        "\n",
        "\n",
        "if __name__ == \"__main__\":\n",
        "    plaintext = input(\"Enter plaintext: \") # any length character input\n",
        "    key = int(input(\"Enter Key: \")) # binary input of length 10\n",
        "    encipher = \"\"\n",
        "    decipher = \"\"\n",
        "    for i in plaintext:\n",
        "        encipher += chr(encrypt(ord(i), key))\n",
        "    print(\"Cipher Text: \" + encipher)\n",
        "    for i in encipher:\n",
        "        decipher += chr(decrypt(ord(i), key))\n",
        "    print(\"Decipher Text: \" + decipher)"
      ]
    }
  ]
}